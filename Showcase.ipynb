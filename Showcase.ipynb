{
 "cells": [
  {
   "cell_type": "code",
   "execution_count": null,
   "metadata": {
    "collapsed": true,
    "deletable": true,
    "editable": true
   },
   "outputs": [],
   "source": [
    "from enum import Enum\n",
    "from ..flux import can\n",
    "\n",
    "IS = Enum(\"IS\", \"working, destroyed, done, ready, broken\") \n",
    "BE = Enum(\"BE\", \"selected, destroyed, used, repaired, cancelled\")\n",
    "HAS = Enum(\"HAS\", \"amount\")\n",
    "OF = Enum(\"OF\", \"water, meat, paprica\")\n",
    "\n",
    "@can(BE.destroyed)\n",
    "def destroy(self, thing):\n",
    "    thing.flux_to(IS.destroyed)\n",
    "    print(\"%s broke the %s!!!\" % (self.__class__.__name__, thing.name))"
   ]
  },
  {
   "cell_type": "code",
   "execution_count": null,
   "metadata": {
    "collapsed": true
   },
   "outputs": [],
   "source": [
    "from enum import Enum\n",
    "\n",
    "class IS(Enum):\n",
    "\tstarting = 1\n",
    "\tconnecting = 2\n",
    "\tready = 3\n",
    "\tdisconnected = 4\n",
    "\tdown = 5\n",
    "\n",
    "class BE(Enum):\n",
    "\tprepared = 1\n",
    "\tetc = 2"
   ]
  },
  {
   "cell_type": "code",
   "execution_count": null,
   "metadata": {
    "collapsed": true
   },
   "outputs": [],
   "source": [
    "from enum import Enum\n",
    "\n",
    "IS = Enum(\"STATE\", \"loading login signup playing exiting\")\n",
    "CAN = Enum(\"CAN\", \"start navigate play configure\")\n",
    "BE  = Enum(\"BE\", \"closed clicked\")\n",
    "HAS = Enum(\"HAS\", \"clicks\")"
   ]
  },
  {
   "cell_type": "code",
   "execution_count": null,
   "metadata": {
    "collapsed": true
   },
   "outputs": [],
   "source": [
    "from enum import Enum\n",
    "\n",
    "IS = Enum('IS', 'closed, open, destroyed')\n",
    "BE = Enum(\"BE\", \"opened, closed, written, entered, fubared\")\n",
    "HAS = Enum(\"HAS\", \"been_opened, hitpoints, been_fluxed\")"
   ]
  }
 ],
 "metadata": {
  "kernelspec": {
   "display_name": "Python 3",
   "language": "python",
   "name": "python3"
  },
  "language_info": {
   "codemirror_mode": {
    "name": "ipython",
    "version": 3
   },
   "file_extension": ".py",
   "mimetype": "text/x-python",
   "name": "python",
   "nbconvert_exporter": "python",
   "pygments_lexer": "ipython3",
   "version": "3.6.0b2"
  }
 },
 "nbformat": 4,
 "nbformat_minor": 2
}
