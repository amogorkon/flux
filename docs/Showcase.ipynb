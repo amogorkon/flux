{
 "cells": [
  {
   "cell_type": "markdown",
   "metadata": {},
   "source": [
    "## ATTPP (Actor-based Trait/Token Programming Paradigm)\n",
    "I've come up with this pattern for PL. The idea is to have a set() of flags - called traits that define the properties and methods of a class. Instead of defining \"classes\" of traits or subclassing explicitely, the traits are grouped into so-called \"stereotypes\", simple set()s of traits that can interact with each other.\n",
    "\n",
    "Traits basically implement the flyweight and visitor pattern while simplifying the handling on the user side, overcoming all the problems of multiple inheritance.\n",
    "\n",
    "There are some issues here:\n",
    "\n",
    "### Traits as enums?\n",
    "The first approach used a Trait(Enum) with name->Implementation, which seemed to work at first but being an enum, this mapping could never be changed, but worse: it never can be extended while all traits using the same implementation map to the same name.\n",
    "\n",
    "### Traits as classes?\n",
    "Classes in module-namespace act like enums (they are singletons), but unlike enums, their implementation can be changed on the fly and classes can be added.\n",
    "This may be a feasible solution, but it adds the temptation to have state in the Trait() which actually belongs to the Thing() and should be shared with other traits, adding unnecessary complexity.\n",
    "\n",
    "### Traits as static methods?\n",
    "If we accept that traits should have no state by itself, we could take the functional route and implement them as externalized methods of Thing. This can be done by having a Trait class which just acts as a namespace for @staticmethods, taking Thing() as parameter that can be introspected. The Thing.bag is a very powerful datastructure that can be used to establish locks and loops across traits.\n",
    "\n",
    "### Actors!\n",
    "Almost forgot the purpose of the exercise: to separate the implementation from the Thing to easily switch it on the fly, depending on the context. So, all we need to do is to go with the first approach - traits as enums - but then have an Actor/Visitor class that implements the details, simply checking the thing for traits and tokens. It's really simple and elegant even. As traits and tokens are enums, their namespaces are seperated, typos are caught instantly and the resulting code is clearly readable with a minimum of noise. \n",
    "\n",
    "If there are things that should be stored with a thing but can't easily be coded as a trait or token (for instance the coordinates of a portal), it's best to have an external WeakKeyDictionary store the data associated with the thing (flyweight pattern) so that traits and tokens can be used as \"metadata\".\n",
    "\n",
    "## FSM!\n",
    "Implementing finite state machines with enums really is cool and simple, as shown elsewhere. To implement complex kinds of FSM you need some kinds of tokens - but wait! Traits are enums and they work in tandem with tokens! This smells like a delicious cake of pattern-goodness.\n",
    "\n",
    "## And there we are.. reinventing the wheel\n",
    "https://en.wikipedia.org/wiki/Automata-based_programming\n",
    "\n",
    "\n",
    "## But my wheels are better than yours!\n",
    "So, I've reinvented the wheels (like so many others), but here is why this approach is so much better than most of the others. The StateMachine itself implements only state and prevents invalid transitions, implementing basic functionality but other than that it's locked - all the rest of the logic is built outside in an actor class or module-level functions, which, ideally, only flips the flux_to switch and nothing else.\n",
    "\n",
    "This allows for the most simple approach for representing state: Enums, sets in a \\__slots\\__-locked class. This means that set-operations can be used for logic and with enums, typos never translate into logic errors and also means less typing while being consistent across modules.\n",
    "\n",
    "Transitions only reply with True or False to remove, but logging and warnings are also done in order to trace back problems if there are any."
   ]
  },
  {
   "cell_type": "code",
   "execution_count": null,
   "metadata": {},
   "outputs": [],
   "source": [
    "from flux import StateMachine\n",
    "from enum import Enum\n",
    "\n",
    "K = Enum(\"Kettle\", \"empty full boiling\")\n",
    "\n",
    "kettle = StateMachine(name=\"kettle\",\n",
    "                      states={K.empty: {K.full},\n",
    "                              K.full: {K.boiling},\n",
    "                              K.boiling: {K.empty}},\n",
    "                      initial=K.empty)\n",
    "\n",
    "class Actor:\n",
    "    def fill(self, kettle):\n",
    "        kettle.flux_to(K.full)\n",
    "    \n",
    "    def boil(self, kettle):\n",
    "        kettle.flux_to(K.boiling)\n",
    "        \n",
    "    def pour(self, kettle):\n",
    "        kettle.flux_to(K.empty)\n",
    "        \n",
    "cook = Actor()\n",
    "\n",
    "cook.fill(kettle)\n",
    "cook.boil(kettle)\n",
    "cook.pour(kettle)\n",
    "cook.boil(kettle)"
   ]
  },
  {
   "cell_type": "markdown",
   "metadata": {},
   "source": [
    "Ok, I admit actor-trait based programming might seem a bit counter-intuitive, so I've added a way to call functions on transition, which works pretty much like regular callbacks in GUIs and networking like twisted.\n",
    "\n",
    "Imagine you have a switch that can be ON or OFF or screwed up. To model this, first you do"
   ]
  },
  {
   "cell_type": "code",
   "execution_count": null,
   "metadata": {},
   "outputs": [],
   "source": [
    "from enum import Enum\n",
    "from flux import StateMachine\n",
    "IS = Enum(\"IS\", \"on off dead\")"
   ]
  },
  {
   "cell_type": "markdown",
   "metadata": {},
   "source": [
    "to define the possible states aka \"alphabet\".\n",
    "Then you define the possible state transitions:"
   ]
  },
  {
   "cell_type": "code",
   "execution_count": null,
   "metadata": {},
   "outputs": [],
   "source": [
    "switch = StateMachine(states={IS.off: {IS.on, IS.off, IS.dead},\n",
    "                                 IS.on: {IS.off, IS.on, IS.dead},\n",
    "                                 },\n",
    "                          initial=IS.off)"
   ]
  },
  {
   "cell_type": "markdown",
   "metadata": {},
   "source": [
    "it simply can't get easier than that. \n",
    "Notice that IS.dead doesn't have any transitions defined, which makes it a final state.\n",
    "Now, to switch the switch ON, you just do\n",
    "\n",
    "    switch.flux_to(IS.on)\n",
    "    switch.flux_to(IS.off)\n",
    "\n",
    "If you want to have some action attached to this, you can define it either in general for exiting the previous state (IS.off), in general for entering the next state (IS.on) OR you can define an action for the transit between specific states, between exit and enter. \n",
    "You can define all three even - then the order of executation is 1) exit 2) transit 3) enter. The action can be any decorated function or inline lambda."
   ]
  },
  {
   "cell_type": "code",
   "execution_count": null,
   "metadata": {},
   "outputs": [],
   "source": [
    "switch.reg_exit(IS.off, lambda e: print(\"not OFF anymore!\"))\n",
    "\n",
    "@switch.reg_enter(IS.on)\n",
    "def _(e):\n",
    "    print(\"it's getting brighter..\")\n",
    "    print(\"bring it ON!\")\n",
    "\n",
    "switch.reg_transition(IS.off, IS.on, \n",
    "                      lambda e: print(\"not sure yet\"))"
   ]
  },
  {
   "cell_type": "markdown",
   "metadata": {},
   "source": [
    "Notice that only one callback function can be defined for any one of the three steps. This is a deliberate design decision. If any code could register a callback function for a state transition anywhere, the order of execution would become very hard to predict - especially if third parties are involved. The price for arbitrary callback chaining would be naming each and every function - so no lambdas and throw-away functions - and a complex maintenance toolchain for debugging and keeping track of what is calling what with what parameters. Too much unnecessary hassle. \n",
    "If you really want to chain functions on transition, have a single function that branches out. This way you have all complexity in one place and less confusion overall.\n",
    "In case a third party really does register a callback, this way you can be certain that there only can be one such function and if you want to override it, you know exactly what to search for, and call from your own code."
   ]
  },
  {
   "cell_type": "code",
   "execution_count": null,
   "metadata": {},
   "outputs": [],
   "source": [
    "switch.flux_to(IS.on)"
   ]
  },
  {
   "cell_type": "markdown",
   "metadata": {},
   "source": [
    "## pluggable adapter, delegator or trait with flyweight\n",
    "this is an exceptionally useful combination of patterns for several reasons:\n",
    "firstly, no subclassing is necessary. this means there are no collisions of methods and attributes, reducing complexity a lot. It also means Entities and delegators can easily be subclassed for other reaons as long as the method signatures are compatible (kwargs, not positional for cooperative super()!). \n",
    "use NotImplemented instead of NotImplementedError for quick check without exceptions. the delegation class should be just a set of related methods with no internal state. this should enable easy functional testing of the delegation with no side effects. last but not least, handling the delegation as a property allows quick and uncomplicated hotplugging of delegators with no change of call-semantics whatsoever. this means the calling side can't and shouldn't care about the current implementation (it could change at any time!), enforcing loose coupling in calling. this also helps in keeping the code at the calling side real simple since only the Entity with a property is called. last but not least, extra needed state associated with the delegator can easily be stored outside in a WeakKeyDict or WeakValueDict so that no unnecessary housekeeping, overcrowding of the Entity namespace or internal state inside the delegator is needed, enabling the flyweight pattern (very little internal state, no \\__dict\\__, and \\__slots\\__ instead)."
   ]
  },
  {
   "cell_type": "markdown",
   "metadata": {},
   "source": [
    "## SSCCE for trait-token paradigm programming \n",
    "(Short, Self Contained, Correct (Compilable), Example)\n",
    "This is the simplest example I could come up with to illustrate the trait-oriented programming pattern I developed.\n",
    "\n",
    "1. First, an enum is declared as a contract between all parties involved. All parties promise to use *only* the enum as traits **nothing else**. \n",
    "2. The Thing class only has traits (as a set of enum) to define behaviour and tokens (as a counter of enum) for a minimum of state. If more state is needed, it can/should be externalized via properties operating on global dicts.\n",
    "3. Any behaviour is externalized into Actor classes or simple handler functions with no state. They are envoked from an accept function in the Thing class, which passes the instance to the Actor/handler. The Actor/handler introspects the traits and tokens of the thing and operates accordingly.\n",
    "\n",
    "This clearly separates state from functionality: Thing represents state (traits, counter and interface to global dicts), Actor implements functionality without state.\n",
    "The first and obvious advantage of this pattern is that it is trivial to expand and recombine functionality on the fly without hardcoding classes and subclasses. Since traits are realized as sets of enums, handling of \"classes\" is simple, safe and fast. This extraordinary combination of qualities is hard to achieve otherwise.\n",
    "\n",
    "Another obvious advantage of this pattern is that it implements the foundation of finite state machines (FSM), making it trivial to realize any type of any complexity of state machine from here.\n",
    "\n",
    "## Linchpin: case handling\n",
    "The pattern stands or falls depending on how cases are handled in the Actor class, realizing the traits. If there are many cases (more than 2), it is advisable to use the dictionary-switch-pattern. Depending on how the traits actually should be handled, it's possible to use tuples of bool as keys to identify cases and test against traits once (that's one of the most efficient ways). This is recommended for traits that interact. If there are traits that are independent of each other, they can be handled in a for-loop over the dict of cases, this time with frozensets of traits to test against.\n",
    "Since traits are implemented as sets, many complex tests (for instance supersets) can be realized efficiently without making the code complicated."
   ]
  },
  {
   "cell_type": "code",
   "execution_count": 4,
   "metadata": {},
   "outputs": [
    {
     "name": "stderr",
     "output_type": "stream",
     "text": [
      "de5cd8f4-04a0-4368-9b38-31655e5c014c now State.open\n",
      "de5cd8f4-04a0-4368-9b38-31655e5c014c now State.closed\n"
     ]
    },
    {
     "name": "stdout",
     "output_type": "stream",
     "text": [
      "guy opens the door\n",
      "he slams against the door\n"
     ]
    }
   ],
   "source": [
    "from enum import Enum\n",
    "from flux import TraitStateMachine, can\n",
    "\n",
    "IS = Enum(\"State\", \"closed open init final\")\n",
    "T = Enum(\"Token\", \"opened hitpoint\")\n",
    "DO = Enum(\"Action\", \"open close hit write enter\")\n",
    "\n",
    "door = TraitStateMachine(states={IS.open: {IS.closed, IS.final},\n",
    "                            IS.closed: {IS.open, IS.final},\n",
    "                            IS.init: {IS.open}},\n",
    "                    initial=IS.init,\n",
    "                    stateful_traits={IS.open: {DO.close, DO.hit, DO.write, DO.enter},\n",
    "                                   IS.closed: {DO.open, DO.hit, DO.write},\n",
    "                                    IS.init: {DO.open}}, \n",
    "                   bag={T.hitpoint: 3}\n",
    "                    )\n",
    "\n",
    "class Guy:\n",
    "    @can(DO.close)\n",
    "    def close(self, thing):\n",
    "        thing.flux_to(IS.closed)\n",
    "        print(\"guy closes the door\")\n",
    "    \n",
    "    @can(DO.enter)\n",
    "    def enter(self, thing):\n",
    "        print(\"guy walks through the door\")\n",
    "    \n",
    "    @can(DO.write)\n",
    "    def write(self, thing):\n",
    "        print(\"guy writes on the door\")\n",
    "    \n",
    "    @can(DO.open)\n",
    "    def open(self, thing):\n",
    "        thing.flux_to(IS.open)\n",
    "        thing.bag[T.opened] += 1\n",
    "        print(\"guy opens the door\")\n",
    "    \n",
    "    @can(DO.hit)\n",
    "    def fubar(self, thing):\n",
    "        thing.bag[T.hitpoint] -= 1\n",
    "        print(\"he slams against the door\")\n",
    "        \n",
    "        if thing.bag[T.hitpoint] <= 0:\n",
    "            thing.flux_to(IS.final)\n",
    "            print(\"guy broke the door\") \n",
    "\n",
    "@can(DO.close)\n",
    "def close(thing):\n",
    "    thing.flux_to(IS.closed)\n",
    "\n",
    "\n",
    "guy = Guy()\n",
    "guy.open(door)\n",
    "close(door)\n",
    "guy.fubar(door)"
   ]
  },
  {
   "cell_type": "code",
   "execution_count": 6,
   "metadata": {},
   "outputs": [
    {
     "name": "stderr",
     "output_type": "stream",
     "text": [
      "d1427a13-74bf-443f-99c3-c66f0222769e now State.y\n",
      "d1427a13-74bf-443f-99c3-c66f0222769e now State.x\n",
      "/media/sf_Dropbox/jupyter/flux/flux.py:159: UserWarning: no valid transition from State.x to State.x\n",
      "  warn(f\"no valid transition from {self.state} to {to_state}\", UserWarning)\n"
     ]
    },
    {
     "data": {
      "text/plain": [
       "OrderedDict([(frozenset({(d1427a13-74bf-443f-99c3-c66f0222769e in State.x with {<State.x: 1>: {<State.y: 2>}, <State.y: 2>: {<State.x: 1>}},\n",
       "                          <State.y: 2>)}),\n",
       "              <State.y: 2>)])"
      ]
     },
     "execution_count": 6,
     "metadata": {},
     "output_type": "execute_result"
    }
   ],
   "source": [
    "from flux import TraitMachine, Collector\n",
    "from enum import Enum\n",
    "\n",
    "E = Enum(\"Eign\", \"a b c\")\n",
    "S = Enum(\"State\", \"x y\")\n",
    "\n",
    "m = TraitMachine(initial=S.x, default=S.x,\n",
    "                states={S.x: {S.y},\n",
    "                        S.y: {S.x}},\n",
    "               trait_states={frozenset({E.a, E.b, E.c}): S.y},\n",
    "               )\n",
    "\n",
    "m.flux_to(S.y)\n",
    "m()\n",
    "m.eigns = {E.a, E.b, E.c}\n",
    "m()\n",
    "\n",
    "c = Collector(initial=S.x, default=S.x,\n",
    "               states={S.x: {S.y},\n",
    "                       S.y: {S.x}},\n",
    "             )\n",
    "c[(m, S.y)] = S.y\n",
    "\n",
    "c.conditions"
   ]
  },
  {
   "cell_type": "code",
   "execution_count": null,
   "metadata": {},
   "outputs": [],
   "source": [
    "from enum import Enum\n",
    "from flux import StateMachine\n",
    "\n",
    "IS = Enum(\"IS\", \"open closed broken\")\n",
    "DO = Enum(\"DO\", \"open close destroy\")\n",
    "\n",
    "\n",
    "class Door(StateMachine):\n",
    "    def __init__(self, *args, **kwargs):\n",
    "        super().__init__(*args, **kwargs)\n",
    "        self.closed = 0\n",
    "        \n",
    "    def accept(self, aim, *args):\n",
    "        def close():\n",
    "            self.flux_to(IS.closed)\n",
    "            self.closed += 1\n",
    "            \n",
    "        cases = {self.state is IS.closed and aim is DO.open: lambda: self.flux_to(IS.open),\n",
    "                 self.state is IS.open and aim is DO.close: lambda: close(),\n",
    "                 aim is DO.destroy: lambda: self.flux_to(IS.broken)}\n",
    "        try:\n",
    "            cases[True]()\n",
    "            return True\n",
    "        except KeyError:\n",
    "            return False\n",
    "        \n",
    "door = Door(states={IS.open: {IS.closed, IS.broken},\n",
    "                    IS.closed: {IS.open, IS.broken}},\n",
    "                   initial=IS.closed,\n",
    "                   name=\"door\")\n",
    "class Actor:\n",
    "    def open(self, thing):\n",
    "        thing.accept(DO.open)\n",
    "        \n",
    "    def close(self, thing):\n",
    "        thing.accept(DO.close)\n",
    "    \n",
    "    def destroy(self, thing):\n",
    "        thing.accept(DO.destroy)\n",
    "    \n",
    "    def mad(self, thing):\n",
    "        for x in range(3):\n",
    "            thing.accept(DO.open, x)\n",
    "            thing.accept(DO.close, x)\n",
    "    \n",
    "guy = Actor()\n",
    "\n",
    "guy.open(door)\n",
    "guy.mad(door)\n",
    "guy.destroy(door)\n",
    "guy.open(door)\n",
    "\n",
    "door.state\n",
    "door.closed"
   ]
  },
  {
   "cell_type": "markdown",
   "metadata": {},
   "source": [
    "Since we figured out how to dispatch on different sets of traits, let's see how easy it is to implement the stateful GUI of PL.\n",
    "Okay, it seems there's an even more elegant way than using dispatch here. If the states are implemented as classes - not enums - it's possible to simply use @staticmethod for the states and have all problems fixed at the same time: 1) The state definition is a well-named singleton with auto-completion 2) it's easy to \"dispatch\" methods per state - states don't need to be instanciated but can be decorated with @staticmethod so they can be called just like that - exactly the way the dispatch would work.\n",
    "\n",
    "This is an even more elegant solution since it takes care of dispatching state-dependent methods with no boilerplate at all. The state transition definition is clean and easy as it should be while it's still trivial to have state-dependent traits as flags and the state manager also has a bag to keep track of any additional info."
   ]
  },
  {
   "cell_type": "code",
   "execution_count": null,
   "metadata": {},
   "outputs": [],
   "source": [
    "from flux import StateMachine\n",
    "\n",
    "class State:\n",
    "    @staticmethod\n",
    "    def display_msg(msg):\n",
    "        print(msg)\n",
    "    \n",
    "class Loading(State):\n",
    "    pass\n",
    "\n",
    "class Login(State):\n",
    "    @staticmethod\n",
    "    def display_msg(msg):\n",
    "        print(\"login\", msg)\n",
    "\n",
    "class Signup(State):\n",
    "    pass\n",
    "\n",
    "class Playing(State):\n",
    "    pass\n",
    "\n",
    "class Exit(State):\n",
    "    pass\n",
    "\n",
    "gs = StateMachine(states={Loading: {Login},\n",
    "                          Login: {Signup, Playing, Exit},\n",
    "                          Signup: {Login},\n",
    "                          Playing: {Exit}},\n",
    "                 initial=Loading)\n",
    "\n",
    "@gs.reg_enter(Signup)\n",
    "def _():\n",
    "    render.hide()\n",
    "    base.setBackgroundColor(1, 1, 1)\n",
    "    base.setFrameRateMeter(False)\n",
    "    \n",
    "gs.reg_enter(Exit, lambda: base.careen())\n",
    "\n",
    "gs.state.display_msg(\"hello\")\n",
    "gs.flux_to(Login)\n",
    "gs.state.display_msg(\"hello\")\n"
   ]
  },
  {
   "cell_type": "code",
   "execution_count": null,
   "metadata": {},
   "outputs": [],
   "source": [
    "from flux import StateMachine\n",
    "from enum import Enum\n",
    "#from bridge import render, base\n",
    "\n",
    "GS = Enum(\"GUIState\", \"loading login signup playing exit\")\n",
    "    \n",
    "gs = StateMachine(states={GS.loading: {GS.login},\n",
    "                          GS.login: {GS.signup, GS.playing, GS.exit},\n",
    "                          GS.signup: {GS.login},\n",
    "                          GS.playing: {GS.exit}},\n",
    "                 initial=GS.loading)\n",
    "\n",
    "@gs.reg_enter(GS.loading)\n",
    "def _(e):\n",
    "    render.hide()\n",
    "    base.setBackgroundColor(1, 1, 1)\n",
    "    base.setFrameRateMeter(False)\n",
    "    \n",
    "gs.reg_enter(GS.exit, lambda e: base.careen())"
   ]
  },
  {
   "cell_type": "code",
   "execution_count": null,
   "metadata": {},
   "outputs": [],
   "source": [
    "from enum import Enum\n",
    "from flux import StateMachine\n",
    "\n",
    "S = Enum(\"State\", \"incomplete invalid wont_fix in_progress new fix_committed fix_released\")\n",
    "\n",
    "BugStatus = StateMachine(states={S.new: {S.incomplete, S.invalid, S.wont_fix, S.in_progress},\n",
    "                          S.incomplete: {S.new, S.wont_fix},\n",
    "                          S.invalid: {S.new},\n",
    "                          S.wont_fix: {S.new},\n",
    "                          S.in_progress: {S.new, S.fix_committed},\n",
    "                          S.fix_committed: {S.in_progress, S.fix_released},\n",
    "                          S.fix_committed: {S.new}},\n",
    "                  initial=S.new)"
   ]
  },
  {
   "cell_type": "code",
   "execution_count": null,
   "metadata": {},
   "outputs": [],
   "source": [
    "from flux import StateMachine, Collector\n",
    "from enum import Enum\n",
    "S = Enum(\"State\", \"on off dead\")\n",
    "\n",
    "a = StateMachine(states={S.on:{S.on, S.off}, \n",
    "                         S.off:{S.off, S.on}},\n",
    "                initial=S.on,\n",
    "                name=\"a\")\n",
    "\n",
    "b = a.clone(name=\"b\")\n",
    "c = a.clone(name=\"c\")\n",
    "\n",
    "x = Collector(states={S.on: {S.dead, S.on}},\n",
    "              initial=S.on,\n",
    "             default=S.dead,\n",
    "             name=\"x\")\n",
    "\n",
    "y = x.clone(name=\"y\")\n",
    "\n",
    "y[(a, S.on), (b, S.on)] = S.on\n",
    "x[(a, S.on), (b, S.on), (c, S.on), (y, S.on)] = S.on\n",
    "\n",
    "x()"
   ]
  },
  {
   "cell_type": "code",
   "execution_count": null,
   "metadata": {},
   "outputs": [],
   "source": [
    "from flux import StateMachine, Collector\n",
    "from enum import Enum\n",
    "S = Enum(\"State\", \"on off dead\")\n",
    "\n",
    "a = StateMachine(states={S.on:{S.on, S.off}, \n",
    "                         S.off:{S.off, S.on}},\n",
    "                initial=S.on,\n",
    "                name=\"a\")\n",
    "\n",
    "x = Collector(states={},\n",
    "             initial=S.dead,\n",
    "              name=\"x\")\n",
    "\n",
    "y = x.clone(name=\"y\")\n",
    "x[y, S.on] = S.on\n",
    "y[x, S.on] = S.on"
   ]
  },
  {
   "cell_type": "markdown",
   "metadata": {},
   "source": [
    "Networking benefits greatly from using statemachines. For instance, both parties of a connection can have a reliable representation of each other's state, which simplifies communication a lot."
   ]
  },
  {
   "cell_type": "code",
   "execution_count": null,
   "metadata": {},
   "outputs": [],
   "source": [
    "from flux import StateMachine, Collector\n",
    "from enum import Enum\n",
    "\n",
    "ES = Enum(\"ESState\", \"starting greeting login playing exitting disconnected\")\n",
    "\n",
    "ESClient = StateMachine(initial=ES.starting,\n",
    "                       states={ES.starting:{ES.greeting},\n",
    "                              ES.greeting:{ES.login},\n",
    "                              ES.playing:{ES.exitting, ES.disconnected},\n",
    "                              ES.disconnected: {ES.playing, ES.exitting}})\n",
    "\n"
   ]
  },
  {
   "cell_type": "markdown",
   "metadata": {
    "collapsed": true
   },
   "source": [
    "## example from http://zguide.zeromq.org/page:all#Serializing-Your-Data\n",
    "\n",
    "~~~~\n",
    "nom-protocol    = open-peering *use-peering\n",
    "\n",
    "open-peering    = C:OHAI ( S:OHAI-OK / S:WTF )\n",
    "\n",
    "use-peering     = C:ICANHAZ\n",
    "                / S:CHEEZBURGER\n",
    "                / C:HUGZ S:HUGZ-OK\n",
    "                / S:HUGZ C:HUGZ-OK\n",
    "~~~~"
   ]
  },
  {
   "cell_type": "code",
   "execution_count": null,
   "metadata": {},
   "outputs": [],
   "source": [
    "from flux import StateMachine\n",
    "from enum import Enum\n",
    "\n",
    "C = Enum(\"Client\", \"OHAI ICANHAZ HUGZ CHEEZBURGER HUGZ_OK BAI\")\n",
    "S = Enum(\"Server\", \"OHAI_OK WTF HUGZ_OK HUGZ BAI\")\n",
    "\n",
    "nom = StateMachine(states={C.OHAI: {S.OHAI_OK, S.WTF},\n",
    "                            S.OHAI_OK: {C.ICANHAZ, C.HUGZ},\n",
    "                            C.HUGZ: {S.HUGZ_OK, S.BAI},\n",
    "                            S.HUGZ: {C.HUGZ_OK},\n",
    "                            S.HUGZ_OK: {C.ICANHAZ, C.HUGZ},\n",
    "                            S.BAI: {C.BAI},},\n",
    "                  initial=C.OHAI)\n",
    "nom.flux_to(S.OHAI_OK)\n",
    "nom.flux_to(C.HUGZ)\n",
    "nom.flux_to(S.HUGZ_OK)\n",
    "nom.next_possible_states"
   ]
  },
  {
   "cell_type": "markdown",
   "metadata": {},
   "source": [
    "As you can see, the protocol defined above is basically 1:1 translated into working code. Furthermore, issues with the specification were easy to identify and fix by playing around with the statemachine and discovering the transitions step by step."
   ]
  },
  {
   "cell_type": "markdown",
   "metadata": {},
   "source": [
    "While StateMachines are really interesting in many situations, a simple TraitBag often can just do the trick."
   ]
  },
  {
   "cell_type": "code",
   "execution_count": 1,
   "metadata": {},
   "outputs": [
    {
     "name": "stdout",
     "output_type": "stream",
     "text": [
      "that did it\n"
     ]
    },
    {
     "name": "stderr",
     "output_type": "stream",
     "text": [
      "/media/sf_Dropbox/jupyter/flux/flux.py:483: UserWarning: do_it can't be called, a6b3f has no Trait.a\n",
      "  warn(f\"{func.__qualname__} can't be called, {thing} has no {in_trait}\")\n"
     ]
    }
   ],
   "source": [
    "from flux import TraitBag, can\n",
    "from enum import Enum\n",
    "\n",
    "T = Enum(\"Trait\", \"a b c\")\n",
    "\n",
    "thing = TraitBag(in_traits=[T.a, T.c])\n",
    "\n",
    "@can(T.a)\n",
    "def do_it(x):\n",
    "    print(\"that did it\")\n",
    "    \n",
    "do_it(thing)\n",
    "\n",
    "thing.traits.discard(T.a)\n",
    "\n",
    "do_it(thing)"
   ]
  },
  {
   "cell_type": "markdown",
   "metadata": {},
   "source": [
    "And of course, you can implement Fluxx the card game with fluxx.\n",
    "\n",
    "### Game Play\n",
    "It all begins with one basic rule: Draw one card, Play one card. You start with a hand of three cards... add the card you drew to your hand, and then choose one card to play, following the directions written on your chosen card. As cards are drawn and played from the deck, the rules of the game change from how many cards are drawn, played or even how many cards you can hold at the end of your turn."
   ]
  },
  {
   "cell_type": "code",
   "execution_count": null,
   "metadata": {},
   "outputs": [],
   "source": [
    "from fluxx import TraitStateMachine\n",
    "from enum import Enum\n",
    "\n",
    "C = Enum(\"Card\", \"win lose nothing\")\n",
    "G = Enum(\"Phase\", \"draw play check end\")\n",
    "P = Enum(\"Player\", \"A B C\")\n",
    "\n",
    "game = TraitStateMachine(states={G.draw: {G.play},\n",
    "                                G.play: {G.check},\n",
    "                                G.check: {G.draw}},\n",
    "                        initial=G.draw)\n"
   ]
  }
 ],
 "metadata": {
  "kernelspec": {
   "display_name": "Python 3",
   "language": "python",
   "name": "python3"
  },
  "language_info": {
   "codemirror_mode": {
    "name": "ipython",
    "version": 3
   },
   "file_extension": ".py",
   "mimetype": "text/x-python",
   "name": "python",
   "nbconvert_exporter": "python",
   "pygments_lexer": "ipython3",
   "version": "3.7.0"
  }
 },
 "nbformat": 4,
 "nbformat_minor": 2
}
